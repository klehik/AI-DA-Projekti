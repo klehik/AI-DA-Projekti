{
 "cells": [
  {
   "cell_type": "code",
   "execution_count": null,
   "id": "362be42c",
   "metadata": {},
   "outputs": [],
   "source": [
    "import pandas as pd\n",
    "import matplotlib.pyplot as plt\n",
    "\n",
    "df = pd.read_csv('./data/LBNL_file.csv', low_memory=False)\n",
    "\n"
   ]
  },
  {
   "cell_type": "code",
   "execution_count": 2,
   "id": "d26d4bff",
   "metadata": {},
   "outputs": [
    {
     "data": {
      "text/plain": [
       "Index(['data_provider_1', 'data_provider_2', 'system_ID_1', 'system_ID_2',\n",
       "       'installation_date', 'system_size_DC', 'total_installed_price',\n",
       "       'rebate_or_grant', 'customer_segment', 'expansion_system',\n",
       "       'multiple_phase_system', 'new_construction', 'tracking',\n",
       "       'ground_mounted', 'zip_code', 'city', 'state',\n",
       "       'utility_service_territory', 'third_party_owned', 'installer_name',\n",
       "       'self_installed', 'azimuth_1', 'azimuth_2', 'azimuth_3', 'tilt_1',\n",
       "       'tilt_2', 'tilt_3', 'module_manufacturer_1', 'module_model_1',\n",
       "       'module_quantity_1', 'module_manufacturer_2', 'module_model_2',\n",
       "       'module_quantity_2', 'module_manufacturer_3', 'module_model_3',\n",
       "       'module_quantity_3', 'additional_modules', 'technology_module_1',\n",
       "       'technology_module_2', 'technology_module_3', 'BIPV_module_1',\n",
       "       'BIPV_module_2', 'BIPV_module_3', 'bifacial_module_1',\n",
       "       'bifacial_module_2', 'bifacial_module_3', 'nameplate_capacity_module_1',\n",
       "       'nameplate_capacity_module_2', 'nameplate_capacity_module_3',\n",
       "       'efficiency_module_1', 'efficiency_module_2', 'efficiency_module_3',\n",
       "       'inverter_manufacturer_1', 'inverter_model_1', 'inverter_quantity_1',\n",
       "       'inverter_manufacturer_2', 'inverter_model_2', 'inverter_quantity_2',\n",
       "       'inverter_manufacturer_3', 'inverter_model_3', 'inverter_quantity_3',\n",
       "       'additional_inverters', 'micro_inverter_1', 'micro_inverter_2',\n",
       "       'micro_inverter_3', 'solar_storage_hybrid_inverter_1',\n",
       "       'solar_storage_hybrid_inverter_2', 'solar_storage_hybrid_inverter_3',\n",
       "       'built_in_meter_inverter_1', 'built_in_meter_inverter_2',\n",
       "       'built_in_meter_inverter_3', 'output_capacity_inverter_1',\n",
       "       'output_capacity_inverter_2', 'output_capacity_inverter_3',\n",
       "       'DC_optimizer', 'inverter_loading_ratio', 'battery_rated_capacity_kW',\n",
       "       'battery_rated_capacity_kWh'],\n",
       "      dtype='object')"
      ]
     },
     "execution_count": 2,
     "metadata": {},
     "output_type": "execute_result"
    }
   ],
   "source": [
    "df.columns"
   ]
  },
  {
   "cell_type": "code",
   "execution_count": 31,
   "id": "11eb2fbc",
   "metadata": {},
   "outputs": [
    {
     "data": {
      "text/plain": [
       "35054"
      ]
     },
     "execution_count": 31,
     "metadata": {},
     "output_type": "execute_result"
    }
   ],
   "source": [
    "\n"
   ]
  },
  {
   "cell_type": "code",
   "execution_count": 2,
   "id": "380f884d",
   "metadata": {},
   "outputs": [],
   "source": [
    "\n",
    "df = df[df['total_installed_price'] != -9999]\n",
    "\n",
    "df = df[df['system_size_DC'] != -9999]\n",
    "\n",
    "df['installation_year'] = pd.to_datetime(df['installation_date']).dt.year\n",
    "\n"
   ]
  },
  {
   "cell_type": "code",
   "execution_count": 3,
   "id": "0f604e07",
   "metadata": {},
   "outputs": [
    {
     "data": {
      "text/html": [
       "<div>\n",
       "<style scoped>\n",
       "    .dataframe tbody tr th:only-of-type {\n",
       "        vertical-align: middle;\n",
       "    }\n",
       "\n",
       "    .dataframe tbody tr th {\n",
       "        vertical-align: top;\n",
       "    }\n",
       "\n",
       "    .dataframe thead th {\n",
       "        text-align: right;\n",
       "    }\n",
       "</style>\n",
       "<table border=\"1\" class=\"dataframe\">\n",
       "  <thead>\n",
       "    <tr style=\"text-align: right;\">\n",
       "      <th></th>\n",
       "      <th>average_price</th>\n",
       "      <th>median_system_size</th>\n",
       "      <th>average_system_size</th>\n",
       "      <th>median_price_per_kW</th>\n",
       "      <th>systems_installed</th>\n",
       "    </tr>\n",
       "    <tr>\n",
       "      <th>installation_year</th>\n",
       "      <th></th>\n",
       "      <th></th>\n",
       "      <th></th>\n",
       "      <th></th>\n",
       "      <th></th>\n",
       "    </tr>\n",
       "  </thead>\n",
       "  <tbody>\n",
       "    <tr>\n",
       "      <th>1998</th>\n",
       "      <td>19572.037500</td>\n",
       "      <td>2.273860</td>\n",
       "      <td>2.22300</td>\n",
       "      <td>9644.377111</td>\n",
       "      <td>12</td>\n",
       "    </tr>\n",
       "    <tr>\n",
       "      <th>1999</th>\n",
       "      <td>25864.112807</td>\n",
       "      <td>3.190084</td>\n",
       "      <td>2.50680</td>\n",
       "      <td>8563.074353</td>\n",
       "      <td>57</td>\n",
       "    </tr>\n",
       "    <tr>\n",
       "      <th>2000</th>\n",
       "      <td>27096.093494</td>\n",
       "      <td>3.366890</td>\n",
       "      <td>2.67840</td>\n",
       "      <td>8480.808903</td>\n",
       "      <td>83</td>\n",
       "    </tr>\n",
       "    <tr>\n",
       "      <th>2001</th>\n",
       "      <td>30446.105849</td>\n",
       "      <td>3.556713</td>\n",
       "      <td>2.86200</td>\n",
       "      <td>8308.561562</td>\n",
       "      <td>730</td>\n",
       "    </tr>\n",
       "    <tr>\n",
       "      <th>2002</th>\n",
       "      <td>36629.288135</td>\n",
       "      <td>4.287222</td>\n",
       "      <td>2.96382</td>\n",
       "      <td>8465.012006</td>\n",
       "      <td>1346</td>\n",
       "    </tr>\n",
       "    <tr>\n",
       "      <th>2003</th>\n",
       "      <td>51209.775202</td>\n",
       "      <td>7.325568</td>\n",
       "      <td>3.30000</td>\n",
       "      <td>7807.649832</td>\n",
       "      <td>2009</td>\n",
       "    </tr>\n",
       "    <tr>\n",
       "      <th>2004</th>\n",
       "      <td>57700.268309</td>\n",
       "      <td>8.041898</td>\n",
       "      <td>3.96000</td>\n",
       "      <td>7440.393360</td>\n",
       "      <td>3490</td>\n",
       "    </tr>\n",
       "    <tr>\n",
       "      <th>2005</th>\n",
       "      <td>66015.373370</td>\n",
       "      <td>9.615082</td>\n",
       "      <td>4.10000</td>\n",
       "      <td>7280.423280</td>\n",
       "      <td>3101</td>\n",
       "    </tr>\n",
       "    <tr>\n",
       "      <th>2006</th>\n",
       "      <td>64879.855970</td>\n",
       "      <td>9.077547</td>\n",
       "      <td>4.36800</td>\n",
       "      <td>7569.927807</td>\n",
       "      <td>5139</td>\n",
       "    </tr>\n",
       "    <tr>\n",
       "      <th>2007</th>\n",
       "      <td>72036.123134</td>\n",
       "      <td>9.754239</td>\n",
       "      <td>4.51500</td>\n",
       "      <td>7976.222222</td>\n",
       "      <td>8459</td>\n",
       "    </tr>\n",
       "    <tr>\n",
       "      <th>2008</th>\n",
       "      <td>99407.871027</td>\n",
       "      <td>13.577377</td>\n",
       "      <td>4.50000</td>\n",
       "      <td>7939.841270</td>\n",
       "      <td>8940</td>\n",
       "    </tr>\n",
       "    <tr>\n",
       "      <th>2009</th>\n",
       "      <td>81252.270067</td>\n",
       "      <td>10.493246</td>\n",
       "      <td>4.72500</td>\n",
       "      <td>7654.175824</td>\n",
       "      <td>13272</td>\n",
       "    </tr>\n",
       "    <tr>\n",
       "      <th>2010</th>\n",
       "      <td>61086.573900</td>\n",
       "      <td>9.447985</td>\n",
       "      <td>5.04000</td>\n",
       "      <td>6708.695652</td>\n",
       "      <td>16657</td>\n",
       "    </tr>\n",
       "    <tr>\n",
       "      <th>2011</th>\n",
       "      <td>70672.040201</td>\n",
       "      <td>12.268244</td>\n",
       "      <td>4.84000</td>\n",
       "      <td>6498.936111</td>\n",
       "      <td>22755</td>\n",
       "    </tr>\n",
       "    <tr>\n",
       "      <th>2012</th>\n",
       "      <td>63977.104968</td>\n",
       "      <td>12.219101</td>\n",
       "      <td>5.06000</td>\n",
       "      <td>5428.165584</td>\n",
       "      <td>31503</td>\n",
       "    </tr>\n",
       "    <tr>\n",
       "      <th>2013</th>\n",
       "      <td>45019.457938</td>\n",
       "      <td>9.846158</td>\n",
       "      <td>5.39000</td>\n",
       "      <td>4975.000000</td>\n",
       "      <td>37143</td>\n",
       "    </tr>\n",
       "    <tr>\n",
       "      <th>2014</th>\n",
       "      <td>44175.811387</td>\n",
       "      <td>10.547268</td>\n",
       "      <td>5.23200</td>\n",
       "      <td>4710.000000</td>\n",
       "      <td>22082</td>\n",
       "    </tr>\n",
       "    <tr>\n",
       "      <th>2015</th>\n",
       "      <td>30118.492059</td>\n",
       "      <td>7.390280</td>\n",
       "      <td>5.46000</td>\n",
       "      <td>4550.000000</td>\n",
       "      <td>87888</td>\n",
       "    </tr>\n",
       "    <tr>\n",
       "      <th>2016</th>\n",
       "      <td>31597.190778</td>\n",
       "      <td>8.494684</td>\n",
       "      <td>5.60000</td>\n",
       "      <td>4354.925259</td>\n",
       "      <td>152866</td>\n",
       "    </tr>\n",
       "    <tr>\n",
       "      <th>2017</th>\n",
       "      <td>34019.899820</td>\n",
       "      <td>10.385779</td>\n",
       "      <td>5.88000</td>\n",
       "      <td>4012.539185</td>\n",
       "      <td>119366</td>\n",
       "    </tr>\n",
       "    <tr>\n",
       "      <th>2018</th>\n",
       "      <td>33346.107100</td>\n",
       "      <td>9.792356</td>\n",
       "      <td>5.82340</td>\n",
       "      <td>4025.869461</td>\n",
       "      <td>130214</td>\n",
       "    </tr>\n",
       "    <tr>\n",
       "      <th>2019</th>\n",
       "      <td>30430.298781</td>\n",
       "      <td>8.611539</td>\n",
       "      <td>5.76620</td>\n",
       "      <td>3968.253968</td>\n",
       "      <td>147210</td>\n",
       "    </tr>\n",
       "  </tbody>\n",
       "</table>\n",
       "</div>"
      ],
      "text/plain": [
       "                   average_price  median_system_size  average_system_size  \\\n",
       "installation_year                                                           \n",
       "1998                19572.037500            2.273860              2.22300   \n",
       "1999                25864.112807            3.190084              2.50680   \n",
       "2000                27096.093494            3.366890              2.67840   \n",
       "2001                30446.105849            3.556713              2.86200   \n",
       "2002                36629.288135            4.287222              2.96382   \n",
       "2003                51209.775202            7.325568              3.30000   \n",
       "2004                57700.268309            8.041898              3.96000   \n",
       "2005                66015.373370            9.615082              4.10000   \n",
       "2006                64879.855970            9.077547              4.36800   \n",
       "2007                72036.123134            9.754239              4.51500   \n",
       "2008                99407.871027           13.577377              4.50000   \n",
       "2009                81252.270067           10.493246              4.72500   \n",
       "2010                61086.573900            9.447985              5.04000   \n",
       "2011                70672.040201           12.268244              4.84000   \n",
       "2012                63977.104968           12.219101              5.06000   \n",
       "2013                45019.457938            9.846158              5.39000   \n",
       "2014                44175.811387           10.547268              5.23200   \n",
       "2015                30118.492059            7.390280              5.46000   \n",
       "2016                31597.190778            8.494684              5.60000   \n",
       "2017                34019.899820           10.385779              5.88000   \n",
       "2018                33346.107100            9.792356              5.82340   \n",
       "2019                30430.298781            8.611539              5.76620   \n",
       "\n",
       "                   median_price_per_kW  systems_installed  \n",
       "installation_year                                          \n",
       "1998                       9644.377111                 12  \n",
       "1999                       8563.074353                 57  \n",
       "2000                       8480.808903                 83  \n",
       "2001                       8308.561562                730  \n",
       "2002                       8465.012006               1346  \n",
       "2003                       7807.649832               2009  \n",
       "2004                       7440.393360               3490  \n",
       "2005                       7280.423280               3101  \n",
       "2006                       7569.927807               5139  \n",
       "2007                       7976.222222               8459  \n",
       "2008                       7939.841270               8940  \n",
       "2009                       7654.175824              13272  \n",
       "2010                       6708.695652              16657  \n",
       "2011                       6498.936111              22755  \n",
       "2012                       5428.165584              31503  \n",
       "2013                       4975.000000              37143  \n",
       "2014                       4710.000000              22082  \n",
       "2015                       4550.000000              87888  \n",
       "2016                       4354.925259             152866  \n",
       "2017                       4012.539185             119366  \n",
       "2018                       4025.869461             130214  \n",
       "2019                       3968.253968             147210  "
      ]
     },
     "execution_count": 3,
     "metadata": {},
     "output_type": "execute_result"
    }
   ],
   "source": [
    "df2 = pd.DataFrame()\n",
    "\n",
    "df['price_per_dc'] = df['total_installed_price'] / df['system_size_DC']\n",
    "\n",
    "df2['installation_year'] = df['installation_year']\n",
    "df2['average_price'] = df.groupby(df['installation_year'])['total_installed_price'].transform('mean')\n",
    "df2['median_system_size'] = df.groupby(df['installation_year'])['system_size_DC'].transform('mean')\n",
    "df2['average_system_size'] = df.groupby(df['installation_year'])['system_size_DC'].transform('median')\n",
    "df2['median_price_per_kW'] =  df.groupby(df['installation_year'])['price_per_dc'].transform('median')\n",
    "\n",
    "counts = df2.value_counts('installation_year')\n",
    "counts.name = 'systems_installed'\n",
    "df2.drop_duplicates(inplace=True)\n",
    "df2 = df2.merge(counts, left_on='installation_year', right_index=True)\n",
    "df2.sort_values('installation_year', inplace=True)\n",
    "\n",
    "df2.set_index('installation_year', inplace=True)\n",
    "\n",
    "df2\n"
   ]
  },
  {
   "cell_type": "code",
   "execution_count": null,
   "id": "70c7188a",
   "metadata": {},
   "outputs": [],
   "source": [
    "\n",
    "\n"
   ]
  },
  {
   "cell_type": "code",
   "execution_count": null,
   "id": "7d6ee994",
   "metadata": {},
   "outputs": [],
   "source": []
  },
  {
   "cell_type": "code",
   "execution_count": 255,
   "id": "f3491008",
   "metadata": {},
   "outputs": [
    {
     "data": {
      "image/png": "[encoded data removed]",
      "text/plain": [
       "<Figure size 432x288 with 1 Axes>"
      ]
     },
     "metadata": {
      "needs_background": "light"
     },
     "output_type": "display_data"
    },
    {
     "data": {
      "image/png": "[encoded data removed]",
      "text/plain": [
       "<Figure size 432x288 with 1 Axes>"
      ]
     },
     "metadata": {
      "needs_background": "light"
     },
     "output_type": "display_data"
    },
    {
     "data": {
      "image/png": "[encoded data removed]",
      "text/plain": [
       "<Figure size 432x288 with 1 Axes>"
      ]
     },
     "metadata": {
      "needs_background": "light"
     },
     "output_type": "display_data"
    },
    {
     "data": {
      "image/png": "[encoded data removed]",
      "text/plain": [
       "<Figure size 432x288 with 1 Axes>"
      ]
     },
     "metadata": {
      "needs_background": "light"
     },
     "output_type": "display_data"
    },
    {
     "data": {
      "image/png": "[encoded data removed]",
      "text/plain": [
       "<Figure size 432x288 with 1 Axes>"
      ]
     },
     "metadata": {
      "needs_background": "light"
     },
     "output_type": "display_data"
    }
   ],
   "source": [
    "def plot_graph(y):\n",
    "    fig, ax = plt.subplots()\n",
    "\n",
    "    ax.set(xlabel='year', ylabel=y.name)\n",
    "    ax.grid()\n",
    "\n",
    "\n",
    "    plt.plot(df2.index, y)\n",
    "\n",
    "\n",
    "for col in df2.columns:\n",
    "    plot_graph(df2[col])\n"
   ]
  },
  {
   "cell_type": "code",
   "execution_count": null,
   "id": "0078755f",
   "metadata": {},
   "outputs": [],
   "source": []
  },
  {
   "cell_type": "code",
   "execution_count": null,
   "id": "94c16634",
   "metadata": {},
   "outputs": [],
   "source": []
  }
 ],
 "metadata": {
  "kernelspec": {
   "display_name": "Python 3.9.12 ('base')",
   "language": "python",
   "name": "python3"
  },
  "language_info": {
   "codemirror_mode": {
    "name": "ipython",
    "version": 3
   },
   "file_extension": ".py",
   "mimetype": "text/x-python",
   "name": "python",
   "nbconvert_exporter": "python",
   "pygments_lexer": "ipython3",
   "version": "3.9.12"
  },
  "vscode": {
   "interpreter": {
    "hash": "e4399c38ba99b8bb6bef1df4869a604a05b63a1be8d0da09048a9c264573a1e5"
   }
  }
 },
 "nbformat": 4,
 "nbformat_minor": 5
}
