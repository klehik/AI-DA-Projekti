{
 "cells": [
  {
   "cell_type": "markdown",
   "id": "4ce1c96b",
   "metadata": {},
   "source": [
    "# Malli tuotantoon\n",
    "\n",
    "Projektin aikana syntyi ajatus luoda ohjelma, johon voi syöttää aurinkopaneelijärjestelmän\n",
    "ominaisuuksia ja ennustaa hintaa ominaisuuksien pohjalta. Näin voidaan testata koneoppimismallien\n",
    "toimivuutta käytännössä. Vaikka tässä projektissa oli vaatimuksena vain tehdä suunnitelma mallin\n",
    "käyttöönotosta, niin tehdään yksinkertainen ja karkea demosovellus mallin testaamiseen.\n",
    "\n",
    "[Sovelluksen lähdekoodi](https://gitlab.labranet.jamk.fi/P1380/aida-projekti-group2/-/blob/main/app/)\n",
    "\n",
    "## Sovellus\n",
    "Luodaan yksinkertainen Node.js -sovellus, joka toimii palvelimena. Ensitesteissä oli tavoitteena\n",
    "käyttää TensorflowJS-kirjastoa, jolla koneoppimismalleja voi ajaa Javascriptilla. Aiemmin koulutetun\n",
    "mallin pystyy lataamaan esimerkiksi h5-tiedostona ja sen jälkeen syöttämää ennustettava dataa\n",
    "mallille. Ongelmaksi syntyi kuitenkin, se että ennustettava data täytyisi skaalata samalla skaalajalla,\n",
    "ennen mallille syöttämistä. Mallien koulutusaineiston skaalauksessa oli käytetty SciKitLearnin\n",
    "scalereita(Python) ja niiden tuominen Javascript-ympäristöön ei onnistunut. Toiseksi TensorflowJS:lla\n",
    "voi käyttää vain Tensorflow-malleja ja parhaimmat tulokset saavutettiin mm. CatBoostilla.\n",
    "Catboostille näytti löytyvän myös Node-kirjasto, mutta mahdollisesti skaalaus voisi olla ongelma\n",
    "tässäkin. Yksi vaihtoehto olisi kouluttaa mallit uudestaan Javascript-ympäristössä.\n",
    "\n",
    "\n",
    "Edellä mainituista syistä päädyimme ajamaan servillä python-koodia, joka onnistuu Nodessa\n",
    "aliprosessin(child_process) avulla. Näin haluttua mallia voidaan käyttää ns. luonnollisessa\n",
    "ympäristössä ja skaleri voidaan tallentaa ja käyttää helposti. Jos halutaan käyttää jotain toista mallia,\n",
    "niin sitä ei tarvitse kääntää Javasriptille. Tässä toisena vaihtoehtona olisi ollut käyttää backendinä\n",
    "jotain python-ympäristöä, esimerkiksi Flaskia tai Djangoa.\n",
    "\n",
    "\n",
    "Sovellus on yksinkertainen. Sivulla on yksi form-elementti, johon syötetään\n",
    "aurinkopaneelijärjestelmän ominaisuuksia. Syötetyt arvot lähetetään POST-requestina serverille.\n",
    "Serveri käynnistää aliprosessin, jossa ajetaan python-ohjelma. Ohjelma saa syötteenä käyttäjän\n",
    "syöttämät arvot. Skripti lataa aiemmin koulutetun koneoppimismallin ja tekee ennustuksen.\n",
    "Ennustus palautetaan Node-puolelle, josta se jatkaa matkaa selaimelle.\n",
    "\n",
    "[Tähän ehkä suunnitelma millainen sovellus olisi parhaimmillan tai jos ehtii niin toteutus]"
   ]
  }
 ],
 "metadata": {
  "kernelspec": {
   "display_name": "Python 3 (ipykernel)",
   "language": "python",
   "name": "python3"
  },
  "language_info": {
   "codemirror_mode": {
    "name": "ipython",
    "version": 3
   },
   "file_extension": ".py",
   "mimetype": "text/x-python",
   "name": "python",
   "nbconvert_exporter": "python",
   "pygments_lexer": "ipython3",
   "version": "3.9.7"
  }
 },
 "nbformat": 4,
 "nbformat_minor": 5
}
