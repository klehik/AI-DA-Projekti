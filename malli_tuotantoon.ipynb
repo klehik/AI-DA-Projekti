{
 "cells": [
  {
   "cell_type": "markdown",
   "id": "4ce1c96b",
   "metadata": {},
   "source": [
    "# Malli tuotantoon\n",
    "\n",
    "Projektin aikana syntyi ajatus luoda ohjelma, johon voi syöttää aurinkopaneelijärjestelmän\n",
    "ominaisuuksia ja ennustaa hintaa ominaisuuksien pohjalta. Näin voidaan testata koneoppimismallien\n",
    "toimivuutta käytännössä. Vaikka tässä projektissa oli vaatimuksena vain tehdä suunnitelma mallin\n",
    "käyttöönotosta, niin tehdään yksinkertainen ja karkea demosovellus mallin testaamiseen.\n",
    "\n",
    "[Sovelluksen lähdekoodi](https://gitlab.labranet.jamk.fi/P1380/aida-projekti-group2/-/blob/main/app/)\n",
    "\n",
    "## Sovellus\n",
    "Luodaan yksinkertainen Node.js -sovellus, joka toimii palvelimena. Ensitesteissä oli tavoitteena\n",
    "käyttää TensorflowJS-kirjastoa, jolla koneoppimismalleja voi ajaa Javascriptilla. Aiemmin koulutetun\n",
    "mallin pystyy lataamaan esimerkiksi h5-tiedostona ja sen jälkeen syöttämää ennustettava dataa\n",
    "mallille. Ongelmaksi syntyi kuitenkin, se että ennustettava data täytyisi skaalata samalla skaalajalla,\n",
    "ennen mallille syöttämistä. Mallien koulutusaineiston skaalauksessa oli käytetty SciKitLearnin\n",
    "scalereita(Python) ja niiden tuominen Javascript-ympäristöön ei onnistunut. Toiseksi TensorflowJS:lla\n",
    "voi käyttää vain Tensorflow-malleja ja parhaimmat tulokset saavutettiin mm. CatBoostilla.\n",
    "Catboostille näytti löytyvän myös Node-kirjasto, mutta mahdollisesti skaalaus voisi olla ongelma\n",
    "tässäkin. Yksi vaihtoehto olisi kouluttaa mallit uudestaan Javascript-ympäristössä.\n",
    "\n",
    "\n",
    "Edellä mainituista syistä päädyimme ajamaan servillä python-koodia, joka onnistuu Nodessa\n",
    "aliprosessin(child_process) avulla. Näin haluttua mallia voidaan käyttää ns. luonnollisessa\n",
    "ympäristössä ja skaleri voidaan tallentaa ja ladata helposti. Jos halutaan käyttää jotain toista mallia,\n",
    "niin sitä ei tarvitse kääntää Javasriptille. Tässä toisena vaihtoehtona olisi ollut käyttää backendinä\n",
    "jotain python-ympäristöä, esimerkiksi Flaskia tai Djangoa.\n",
    "\n",
    "\n",
    "Sovellus on yksinkertainen. Sivulla on yksi form-elementti, johon syötetään\n",
    "aurinkopaneelijärjestelmän ominaisuuksia. Syötetyt arvot lähetetään POST-requestina serverille.\n",
    "Serveri käynnistää aliprosessin, jossa ajetaan python-ohjelma. Ohjelma saa syötteenä käyttäjän\n",
    "syöttämät arvot. Skripti lataa aiemmin koulutetun koneoppimismallin ja tekee ennustuksen.\n",
    "Ennustus palautetaan Node-puolelle, josta se jatkaa matkaa selaimelle.\n",
    "\n",
    "\n",
    "#### Screenshot 1\n",
    "![start](./img/start.png)\n",
    "#### Screenshot 2\n",
    "![predicting](./img/predicting.png)\n",
    "#### Screenshot 3\n",
    "![start](./img/predict.png)\n",
    "\n",
    "\n",
    "## Jatkokehitys\n",
    "\n",
    "Tässä demoversiossa on käytetty neuroverkkoa, johon on karsittu 15 tärkeintä featurea datasetistä. Käyttäjä syöttää tässä vain 4 featurea ja loput syötetään kovakoodattuna mallille. Käyttäjän syöttämiä featureja tulisi lopulliseen versioon enemmän ennustusten tarkkuuden parantamiseksi. \n",
    "\n",
    "Sovellusta voisi jatkokehittää esimerkiksi käyttämällä datasettiä, missä on vain viimeisen 5-vuoden data,\n",
    "joka mahdollisesti ennustaisi nykypäivän hintoja tarkemmin. Myös mallia tulisi kouluttaa uudestaan käytön\n",
    "aikana saadulla datalla, jolloin toivottavasti myös tarkkuus ajan mittaan paranisi. Luonnolliseti myös ulkoasu tulisi lopullisessa versiossa olemaan erilainen."
   ]
  }
 ],
 "metadata": {
  "kernelspec": {
   "display_name": "Python 3 (ipykernel)",
   "language": "python",
   "name": "python3"
  },
  "language_info": {
   "codemirror_mode": {
    "name": "ipython",
    "version": 3
   },
   "file_extension": ".py",
   "mimetype": "text/x-python",
   "name": "python",
   "nbconvert_exporter": "python",
   "pygments_lexer": "ipython3",
   "version": "3.9.7"
  }
 },
 "nbformat": 4,
 "nbformat_minor": 5
}
