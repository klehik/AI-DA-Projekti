{
 "cells": [
  {
   "cell_type": "markdown",
   "metadata": {},
   "source": [
    "# AI / DA -Projekti TTC8070-3001 \n",
    "\n",
    "## Ryhmä 2 \n",
    "\n",
    "\n"
   ]
  },
  {
   "cell_type": "markdown",
   "metadata": {},
   "source": [
    "## Tehtävä 1 b: Liiketoimintavaatimukset\n",
    "\n",
    "Aurinkopaneelit ja vihreät arvot ovat kuuma puheenaihe tänäpäivänä ja aurinkopaneeleiden myynti ja tuotanto ovat olleet viimeaikona nousussa. Analysoimalla viime vuosikymmenien dataa voidaan ennustaa tulevaisuuden myyntiä ja varautua kysyntään paremmin. Aurinkopaneeli aineistoa voidaan hyödyntää esimerkiksi yrityksen asiakkaille tehtäviin kustannusarviointeihin ja voidaan tarjota asiakkailla myös työkalu, jolla asiakas voi tehdä henkilökohtaisen kustannusarvion oman kiinteistön tiedoilla. Datasetistä voidaan myös etsiä eroja asiakkaiden käyttäytymisessä eri osavaltioden välillä ja tehdä malli, jota voidaan skaalata toimimaan myös muissa osavaltioissa. \n",
    "\n",
    "Asiakkaan tietoa voidaan ja myös pitää hyödyntää esimerkiksi datan sarakkeiden selittämiseen, koska tällä hetkellä useat sarakkeet näennäisesti muistuttavat toisiaan, mutta sisältävät vaihtelevasti eri arvoja. Asiakkaiden liiketoiminna tuntemusta tulee myös kuunnella, koska siitä saa lisää ymmärrystä datasetin tulkitsemiseen ja myös parempaa ymmärrystä aurinkopaneeleista ja niiden käyttö kohteista.\n",
    "Asiakas haluaa maksimoida tuotot, tehostaa liiketoimintamallia ja myös mahdollisesti löytää datasta ennalta tuntemattomia asioita/trendejä, joita voisi mahdollisesti hyödyntää liiketoiminnan kehityksessä.\n",
    "\n",
    "\n",
    "- Projektin vaatimukset tällähetkellä:\n",
    "    - Datan visualisointi:\n",
    "        - Tehtävänanto\n",
    "        - Yleisin asennettujen järjestelmien koko eri vuosina. Tähän liittyen tulisi selvittää hinta ja järjestelmäkoko kuluttaja- ja yritysasiakkaiden osalta asennusvuosittain (ts. millaisia järjestelmiä kunakin vuonna on asennettu näille asiakastyypeille)?\n",
    "        - Asennettujen järjestelmien hintakehitys vuosien varrella?\n",
    "        - Minkä kokoisia inverttereitä ajetaan ylikuormalla?\n",
    "        - Yritys- ja kuluttaja-asiakkaiden osuudet osavaltioittain tai kaupungeittain?\n",
    "        - Kuinka pitkään paneelivalmistajat ja asennusfirmat ovat toimineet alalla?\n",
    "        - Optio: Näistä lisäksi myyntimäärät ja myyntimäärien kehitys vuosien saatossa.\n",
    "        - Millä aurinkopaneelijärjestelmillä on paras hinta-teho-suhde?\n",
    "        - Optio: Kaupunkien ryhmittely suuremmiksi alueiksi (kuitenkin pienemmät alueet kuin osavaltiot) (vinkki: Rest APIn hyödyntäminen).\n",
    "\n"
   ]
  }
 ],
 "metadata": {
  "language_info": {
   "name": "python"
  },
  "orig_nbformat": 4
 },
 "nbformat": 4,
 "nbformat_minor": 2
}
